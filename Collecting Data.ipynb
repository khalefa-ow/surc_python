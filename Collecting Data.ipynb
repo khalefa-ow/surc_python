{
 "cells": [
  {
   "cell_type": "code",
   "execution_count": 1,
   "id": "259ab2a6",
   "metadata": {},
   "outputs": [],
   "source": [
    "import pandas as pd\n",
    "import matplotlib.pyplot as plt\n",
    "import re\n",
    "import yaml\n",
    "import tweepy\n",
    "import numpy as npxs\n",
    "import timeit\n",
    "\n",
    "\n",
    "pd.set_option('display.max_columns', None)\n",
    "pd.set_option('display.max_rows', None)"
   ]
  },
  {
   "cell_type": "code",
   "execution_count": 2,
   "id": "45e1bfc3",
   "metadata": {},
   "outputs": [],
   "source": [
    "consumer_key = 'Q2bQGR5l4rm8V9wLdPAWVlygx'\n",
    "consumer_secret = '0gIbTawUIQzsQqq2Tw1cPjtosorYx8dHoNK0gyqFGng7xNovsJ'\n",
    "access_token = '1507957215537283072-b0EZy0V42NKpTuJKOvyVm1sswGwFb2'\n",
    "access_token_secret = 'lLieNQUS4copiahln6ifoZAuMYux19J08GYDUvjli3bxQ'"
   ]
  },
  {
   "cell_type": "code",
   "execution_count": 3,
   "id": "7f5642ab",
   "metadata": {},
   "outputs": [],
   "source": [
    "def auth():\n",
    "    try:\n",
    "        auth = tweepy.OAuthHandler(consumer_key, consumer_secret)\n",
    "        auth.set_access_token(access_token, access_token_secret)\n",
    "        api = tweepy.API(auth, wait_on_rate_limit=True)\n",
    "        print('It worked')\n",
    "      \n",
    "        \n",
    "    except:\n",
    "        print('An error occurred during the authentication')\n",
    "    return api"
   ]
  },
  {
   "cell_type": "code",
   "execution_count": 4,
   "id": "d02af9c8",
   "metadata": {},
   "outputs": [],
   "source": [
    "# function to remove URL\n",
    "def remove_url(txt):\n",
    "    return ' '.join(re.sub('([^0-9A-Za-z \\t])|(\\w+:\\/\\/\\S+)', '', txt).split())\n",
    "\n",
    "# function to remove time\n",
    "def remove_time(datetime):\n",
    "    return str(datetime).split(' ')[0]"
   ]
  },
  {
   "cell_type": "code",
   "execution_count": 5,
   "id": "7d3bbea8",
   "metadata": {},
   "outputs": [],
   "source": [
    "def search_by_hashtag(api, date_until, words, max):\n",
    "    df = pd.DataFrame(columns=['id', 'created_at', 'username', 'location', 'following', \n",
    "                               'followers', 'retweetcount', 'text']) \n",
    "    tweets = tweepy.Cursor(api.search_tweets, q=words, lang='en', until=date_until, tweet_mode='extended').items(max) \n",
    "    list_tweets = [tweet for tweet in tweets] \n",
    "    \n",
    "    for tweet in list_tweets: \n",
    "        id = tweet.id\n",
    "        created_at = remove_time(tweet.created_at)\n",
    "        username = tweet.user.screen_name \n",
    "        location = tweet.user.location \n",
    "        following = tweet.user.friends_count \n",
    "        followers = tweet.user.followers_count  \n",
    "        retweetcount = tweet.retweet_count \n",
    "    \n",
    "        try: \n",
    "            text = tweet.retweeted_status.full_text \n",
    "        except AttributeError: \n",
    "            text = tweet.full_text \n",
    "        text = remove_url(text)\n",
    "\n",
    "        tweets = [id, created_at, username, location, following, followers, retweetcount, text]\n",
    "\n",
    "        df.loc[len(df)] = tweets # add current tweet to the last\n",
    "          \n",
    "    return df"
   ]
  },
  {
   "cell_type": "code",
   "execution_count": 6,
   "id": "a3e43c54",
   "metadata": {},
   "outputs": [
    {
     "name": "stdout",
     "output_type": "stream",
     "text": [
      "It worked\n"
     ]
    },
    {
     "data": {
      "text/html": [
       "<div>\n",
       "<style scoped>\n",
       "    .dataframe tbody tr th:only-of-type {\n",
       "        vertical-align: middle;\n",
       "    }\n",
       "\n",
       "    .dataframe tbody tr th {\n",
       "        vertical-align: top;\n",
       "    }\n",
       "\n",
       "    .dataframe thead th {\n",
       "        text-align: right;\n",
       "    }\n",
       "</style>\n",
       "<table border=\"1\" class=\"dataframe\">\n",
       "  <thead>\n",
       "    <tr style=\"text-align: right;\">\n",
       "      <th></th>\n",
       "      <th>id</th>\n",
       "      <th>created_at</th>\n",
       "      <th>username</th>\n",
       "      <th>location</th>\n",
       "      <th>following</th>\n",
       "      <th>followers</th>\n",
       "      <th>retweetcount</th>\n",
       "      <th>text</th>\n",
       "    </tr>\n",
       "  </thead>\n",
       "  <tbody>\n",
       "    <tr>\n",
       "      <th>0</th>\n",
       "      <td>1512218663151190021</td>\n",
       "      <td>2022-04-07</td>\n",
       "      <td>ricardus_13</td>\n",
       "      <td></td>\n",
       "      <td>96</td>\n",
       "      <td>83</td>\n",
       "      <td>0</td>\n",
       "      <td>olliecarroll One reason people insist Russia d...</td>\n",
       "    </tr>\n",
       "    <tr>\n",
       "      <th>1</th>\n",
       "      <td>1512218655530131458</td>\n",
       "      <td>2022-04-07</td>\n",
       "      <td>ProudDem6</td>\n",
       "      <td></td>\n",
       "      <td>1978</td>\n",
       "      <td>1369</td>\n",
       "      <td>0</td>\n",
       "      <td>JudiciaryGOP We still cant believe republicans...</td>\n",
       "    </tr>\n",
       "    <tr>\n",
       "      <th>2</th>\n",
       "      <td>1512218655345369088</td>\n",
       "      <td>2022-04-07</td>\n",
       "      <td>stinkymouth</td>\n",
       "      <td>Las Vegas, NV</td>\n",
       "      <td>2237</td>\n",
       "      <td>194</td>\n",
       "      <td>0</td>\n",
       "      <td>hankmoody2020 thehill USA constantly looking f...</td>\n",
       "    </tr>\n",
       "    <tr>\n",
       "      <th>3</th>\n",
       "      <td>1512218654137536514</td>\n",
       "      <td>2022-04-07</td>\n",
       "      <td>WLockefeer</td>\n",
       "      <td></td>\n",
       "      <td>30</td>\n",
       "      <td>43</td>\n",
       "      <td>0</td>\n",
       "      <td>addexteram HollyGo55 KyivIndependent Letting R...</td>\n",
       "    </tr>\n",
       "    <tr>\n",
       "      <th>4</th>\n",
       "      <td>1512218650694103065</td>\n",
       "      <td>2022-04-07</td>\n",
       "      <td>sethkushondeck</td>\n",
       "      <td>Basedworld</td>\n",
       "      <td>471</td>\n",
       "      <td>407</td>\n",
       "      <td>0</td>\n",
       "      <td>SwansonElise R66D2 aaronjmate DrGee777 We are ...</td>\n",
       "    </tr>\n",
       "  </tbody>\n",
       "</table>\n",
       "</div>"
      ],
      "text/plain": [
       "                    id  created_at        username       location following  \\\n",
       "0  1512218663151190021  2022-04-07     ricardus_13                       96   \n",
       "1  1512218655530131458  2022-04-07       ProudDem6                     1978   \n",
       "2  1512218655345369088  2022-04-07     stinkymouth  Las Vegas, NV      2237   \n",
       "3  1512218654137536514  2022-04-07      WLockefeer                       30   \n",
       "4  1512218650694103065  2022-04-07  sethkushondeck     Basedworld       471   \n",
       "\n",
       "  followers retweetcount                                               text  \n",
       "0        83            0  olliecarroll One reason people insist Russia d...  \n",
       "1      1369            0  JudiciaryGOP We still cant believe republicans...  \n",
       "2       194            0  hankmoody2020 thehill USA constantly looking f...  \n",
       "3        43            0  addexteram HollyGo55 KyivIndependent Letting R...  \n",
       "4       407            0  SwansonElise R66D2 aaronjmate DrGee777 We are ...  "
      ]
     },
     "execution_count": 6,
     "metadata": {},
     "output_type": "execute_result"
    }
   ],
   "source": [
    "api = auth()\n",
    "words = 'Russia -filter:retweets'\n",
    "date_until = '2022-04-08'\n",
    "df = search_by_hashtag(api, date_until, words, 1000)\n",
    "df.head()"
   ]
  },
  {
   "cell_type": "raw",
   "id": "355fedf1",
   "metadata": {},
   "source": [
    "df.to_csv('processedtweets#Russiapart2')"
   ]
  },
  {
   "cell_type": "code",
   "execution_count": 7,
   "id": "c6527e93",
   "metadata": {},
   "outputs": [],
   "source": [
    "#df = pd.read_csv('processed_tweets')\n",
    "#df.head(100)"
   ]
  }
 ],
 "metadata": {
  "kernelspec": {
   "display_name": "Python 3 (ipykernel)",
   "language": "python",
   "name": "python3"
  },
  "language_info": {
   "codemirror_mode": {
    "name": "ipython",
    "version": 3
   },
   "file_extension": ".py",
   "mimetype": "text/x-python",
   "name": "python",
   "nbconvert_exporter": "python",
   "pygments_lexer": "ipython3",
   "version": "3.9.7"
  }
 },
 "nbformat": 4,
 "nbformat_minor": 5
}
